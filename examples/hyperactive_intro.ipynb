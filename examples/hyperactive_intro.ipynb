{
 "cells": [
  {
   "cell_type": "code",
   "execution_count": null,
   "id": "59f50890",
   "metadata": {},
   "outputs": [],
   "source": []
  },
  {
   "cell_type": "markdown",
   "id": "830f7eb7",
   "metadata": {},
   "source": [
    "### use of experiment"
   ]
  },
  {
   "cell_type": "markdown",
   "id": "173f1923",
   "metadata": {},
   "source": [
    "#### simple objective function - parabola"
   ]
  },
  {
   "cell_type": "code",
   "execution_count": null,
   "id": "59dd4715",
   "metadata": {},
   "outputs": [],
   "source": [
    "from hyperactive.experiment.toy import Parabola\n",
    "\n",
    "parabola = Parabola(42, 3, 4)"
   ]
  },
  {
   "cell_type": "code",
   "execution_count": null,
   "id": "fc08e901",
   "metadata": {},
   "outputs": [],
   "source": [
    "parabola.paramnames()\n"
   ]
  },
  {
   "cell_type": "code",
   "execution_count": null,
   "id": "4f0ad640",
   "metadata": {},
   "outputs": [],
   "source": [
    "parabola(x=2, y=3)"
   ]
  },
  {
   "cell_type": "markdown",
   "id": "98924abf",
   "metadata": {},
   "source": [
    "#### sklearn cross-validation"
   ]
  },
  {
   "cell_type": "code",
   "execution_count": 1,
   "id": "57110e86",
   "metadata": {},
   "outputs": [],
   "source": [
    "from hyperactive.experiment.integrations import SklearnCvExperiment\n",
    "from sklearn.datasets import load_iris\n",
    "from sklearn.svm import SVC\n",
    "from sklearn.metrics import accuracy_score\n",
    "from sklearn.model_selection import KFold"
   ]
  },
  {
   "cell_type": "code",
   "execution_count": 13,
   "id": "964aee05",
   "metadata": {},
   "outputs": [],
   "source": [
    "X, y = load_iris(return_X_y=True)\n",
    "\n",
    "sklearn_exp = SklearnCvExperiment(\n",
    "    estimator=SVC(),\n",
    "    scoring=accuracy_score,\n",
    "    cv=KFold(n_splits=3, shuffle=True),\n",
    "    X=X,\n",
    "    y=y,\n",
    ")"
   ]
  },
  {
   "cell_type": "code",
   "execution_count": 14,
   "id": "1cfd28d4",
   "metadata": {},
   "outputs": [
    {
     "data": {
      "text/plain": [
       "['C',\n",
       " 'break_ties',\n",
       " 'cache_size',\n",
       " 'class_weight',\n",
       " 'coef0',\n",
       " 'decision_function_shape',\n",
       " 'degree',\n",
       " 'gamma',\n",
       " 'kernel',\n",
       " 'max_iter',\n",
       " 'probability',\n",
       " 'random_state',\n",
       " 'shrinking',\n",
       " 'tol',\n",
       " 'verbose']"
      ]
     },
     "execution_count": 14,
     "metadata": {},
     "output_type": "execute_result"
    }
   ],
   "source": [
    "sklearn_exp.paramnames()"
   ]
  },
  {
   "cell_type": "code",
   "execution_count": 15,
   "id": "daaacd3d",
   "metadata": {},
   "outputs": [
    {
     "ename": "ValueError",
     "evalue": "SVC(C=1, gamma=0.3)",
     "output_type": "error",
     "traceback": [
      "\u001b[1;31m---------------------------------------------------------------------------\u001b[0m",
      "\u001b[1;31mValueError\u001b[0m                                Traceback (most recent call last)",
      "Cell \u001b[1;32mIn[15], line 1\u001b[0m\n\u001b[1;32m----> 1\u001b[0m sklearn_exp(C\u001b[38;5;241m=\u001b[39m\u001b[38;5;241m1\u001b[39m, gamma\u001b[38;5;241m=\u001b[39m\u001b[38;5;241m0.3\u001b[39m)\n",
      "File \u001b[1;32mC:\\Workspace\\Hyperactive\\src\\hyperactive\\base\\_experiment.py:14\u001b[0m, in \u001b[0;36mBaseExperiment.__call__\u001b[1;34m(self, **kwargs)\u001b[0m\n\u001b[0;32m     12\u001b[0m \u001b[38;5;28;01mdef\u001b[39;00m \u001b[38;5;21m__call__\u001b[39m(\u001b[38;5;28mself\u001b[39m, \u001b[38;5;241m*\u001b[39m\u001b[38;5;241m*\u001b[39mkwargs):\n\u001b[0;32m     13\u001b[0m \u001b[38;5;250m    \u001b[39m\u001b[38;5;124;03m\"\"\"Score parameters, with kwargs call.\"\"\"\u001b[39;00m\n\u001b[1;32m---> 14\u001b[0m     score, _ \u001b[38;5;241m=\u001b[39m \u001b[38;5;28mself\u001b[39m\u001b[38;5;241m.\u001b[39mscore(\u001b[38;5;241m*\u001b[39m\u001b[38;5;241m*\u001b[39mkwargs)\n\u001b[0;32m     15\u001b[0m     \u001b[38;5;28;01mreturn\u001b[39;00m score\n",
      "File \u001b[1;32mC:\\Workspace\\Hyperactive\\src\\hyperactive\\base\\_experiment.py:55\u001b[0m, in \u001b[0;36mBaseExperiment.score\u001b[1;34m(self, **params)\u001b[0m\n\u001b[0;32m     53\u001b[0m \u001b[38;5;28;01mif\u001b[39;00m \u001b[38;5;129;01mnot\u001b[39;00m \u001b[38;5;28mset\u001b[39m(params\u001b[38;5;241m.\u001b[39mkeys()) \u001b[38;5;241m<\u001b[39m\u001b[38;5;241m=\u001b[39m \u001b[38;5;28mset\u001b[39m(paramnames):\n\u001b[0;32m     54\u001b[0m     \u001b[38;5;28;01mraise\u001b[39;00m \u001b[38;5;167;01mValueError\u001b[39;00m(\u001b[38;5;124m\"\u001b[39m\u001b[38;5;124mParameters do not match.\u001b[39m\u001b[38;5;124m\"\u001b[39m)\n\u001b[1;32m---> 55\u001b[0m \u001b[38;5;28;01mreturn\u001b[39;00m \u001b[38;5;28mself\u001b[39m\u001b[38;5;241m.\u001b[39m_score(\u001b[38;5;241m*\u001b[39m\u001b[38;5;241m*\u001b[39mparams)\n",
      "File \u001b[1;32mC:\\Workspace\\Hyperactive\\src\\hyperactive\\experiment\\integrations\\sklearn_cv.py:52\u001b[0m, in \u001b[0;36mSklearnCvExperiment._score\u001b[1;34m(self, **params)\u001b[0m\n\u001b[0;32m     44\u001b[0m estimator\u001b[38;5;241m.\u001b[39mset_params(\u001b[38;5;241m*\u001b[39m\u001b[38;5;241m*\u001b[39mparams)\n\u001b[0;32m     46\u001b[0m cv_results \u001b[38;5;241m=\u001b[39m cross_validate(\n\u001b[0;32m     47\u001b[0m     estimator,\n\u001b[0;32m     48\u001b[0m     \u001b[38;5;28mself\u001b[39m\u001b[38;5;241m.\u001b[39mX,\n\u001b[0;32m     49\u001b[0m     \u001b[38;5;28mself\u001b[39m\u001b[38;5;241m.\u001b[39my,\n\u001b[0;32m     50\u001b[0m     cv\u001b[38;5;241m=\u001b[39m\u001b[38;5;28mself\u001b[39m\u001b[38;5;241m.\u001b[39mcv,\n\u001b[0;32m     51\u001b[0m )\n\u001b[1;32m---> 52\u001b[0m \u001b[38;5;28;01mraise\u001b[39;00m \u001b[38;5;167;01mValueError\u001b[39;00m(estimator)\n\u001b[0;32m     54\u001b[0m add_info_d \u001b[38;5;241m=\u001b[39m {\n\u001b[0;32m     55\u001b[0m     \u001b[38;5;124m\"\u001b[39m\u001b[38;5;124mscore_time\u001b[39m\u001b[38;5;124m\"\u001b[39m: cv_results[\u001b[38;5;124m\"\u001b[39m\u001b[38;5;124mscore_time\u001b[39m\u001b[38;5;124m\"\u001b[39m],\n\u001b[0;32m     56\u001b[0m     \u001b[38;5;124m\"\u001b[39m\u001b[38;5;124mfit_time\u001b[39m\u001b[38;5;124m\"\u001b[39m: cv_results[\u001b[38;5;124m\"\u001b[39m\u001b[38;5;124mfit_time\u001b[39m\u001b[38;5;124m\"\u001b[39m],\n\u001b[0;32m     57\u001b[0m     \u001b[38;5;124m\"\u001b[39m\u001b[38;5;124mn_test_samples\u001b[39m\u001b[38;5;124m\"\u001b[39m: _num_samples(\u001b[38;5;28mself\u001b[39m\u001b[38;5;241m.\u001b[39mX),\n\u001b[0;32m     58\u001b[0m }\n\u001b[0;32m     60\u001b[0m \u001b[38;5;28;01mreturn\u001b[39;00m cv_results[\u001b[38;5;124m\"\u001b[39m\u001b[38;5;124mtest_score\u001b[39m\u001b[38;5;124m\"\u001b[39m]\u001b[38;5;241m.\u001b[39mmean(), add_info_d\n",
      "\u001b[1;31mValueError\u001b[0m: SVC(C=1, gamma=0.3)"
     ]
    }
   ],
   "source": [
    "sklearn_exp(C=1, gamma=0.3)"
   ]
  },
  {
   "cell_type": "code",
   "execution_count": null,
   "id": "f74ca927",
   "metadata": {},
   "outputs": [],
   "source": [
    "sklearn_exp.score(C=1, gamma=0.3)"
   ]
  },
  {
   "cell_type": "code",
   "execution_count": 5,
   "id": "4bf29a66",
   "metadata": {},
   "outputs": [],
   "source": [
    "estimator = SVC(C=1, gamma=0.3)\n",
    "\n",
    "from sklearn import clone\n",
    "from sklearn.model_selection import cross_validate\n",
    "\n"
   ]
  },
  {
   "cell_type": "code",
   "execution_count": null,
   "id": "5e2328c9",
   "metadata": {},
   "outputs": [
    {
     "data": {
      "text/plain": [
       "{'fit_time': array([0.00150633, 0.00150681, 0.00099969, 0.001019  ]),\n",
       " 'score_time': array([0.        , 0.00100851, 0.00100374, 0.00151205]),\n",
       " 'test_score': array([1.        , 0.94736842, 0.91891892, 0.75675676])}"
      ]
     },
     "execution_count": 12,
     "metadata": {},
     "output_type": "execute_result"
    }
   ],
   "source": []
  },
  {
   "cell_type": "code",
   "execution_count": null,
   "id": "d6e77ee2",
   "metadata": {},
   "outputs": [],
   "source": [
    "cv_results"
   ]
  },
  {
   "cell_type": "code",
   "execution_count": null,
   "id": "e9a07a73",
   "metadata": {},
   "outputs": [],
   "source": []
  }
 ],
 "metadata": {
  "kernelspec": {
   "display_name": "sktime-skpro-skbase-313",
   "language": "python",
   "name": "python3"
  },
  "language_info": {
   "codemirror_mode": {
    "name": "ipython",
    "version": 3
   },
   "file_extension": ".py",
   "mimetype": "text/x-python",
   "name": "python",
   "nbconvert_exporter": "python",
   "pygments_lexer": "ipython3",
   "version": "3.12.7"
  }
 },
 "nbformat": 4,
 "nbformat_minor": 5
}
