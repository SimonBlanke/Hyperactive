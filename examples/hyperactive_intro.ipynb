{
 "cells": [
  {
   "cell_type": "code",
   "execution_count": null,
   "id": "59f50890",
   "metadata": {},
   "outputs": [],
   "source": []
  },
  {
   "cell_type": "markdown",
   "id": "830f7eb7",
   "metadata": {},
   "source": [
    "### use of experiment"
   ]
  },
  {
   "cell_type": "markdown",
   "id": "173f1923",
   "metadata": {},
   "source": [
    "#### simple objective function - parabola"
   ]
  },
  {
   "cell_type": "code",
   "execution_count": null,
   "id": "59dd4715",
   "metadata": {},
   "outputs": [],
   "source": [
    "from hyperactive.experiment.toy import Parabola\n",
    "\n",
    "parabola = Parabola(42, 3, 4)"
   ]
  },
  {
   "cell_type": "code",
   "execution_count": null,
   "id": "fc08e901",
   "metadata": {},
   "outputs": [],
   "source": [
    "parabola.paramnames()\n"
   ]
  },
  {
   "cell_type": "code",
   "execution_count": null,
   "id": "4f0ad640",
   "metadata": {},
   "outputs": [],
   "source": [
    "parabola(x=2, y=3)"
   ]
  },
  {
   "cell_type": "markdown",
   "id": "98924abf",
   "metadata": {},
   "source": [
    "#### sklearn cross-validation"
   ]
  },
  {
   "cell_type": "code",
   "execution_count": null,
   "id": "57110e86",
   "metadata": {},
   "outputs": [],
   "source": [
    "from hyperactive.experiment.integrations import SklearnCvExperiment\n",
    "from sklearn.datasets import load_iris\n",
    "from sklearn.svm import SVC\n",
    "from sklearn.metrics import accuracy_score\n",
    "from sklearn.model_selection import KFold\n",
    "\n",
    "X, y = load_iris(return_X_y=True)\n",
    "\n",
    "sklearn_exp = SklearnCvExperiment(\n",
    "    estimator=SVC(),\n",
    "    scoring=accuracy_score,\n",
    "    cv=KFold(n_splits=3, shuffle=True),\n",
    "    X=X,\n",
    "    y=y,\n",
    ")"
   ]
  },
  {
   "cell_type": "code",
   "execution_count": null,
   "id": "1cfd28d4",
   "metadata": {},
   "outputs": [],
   "source": [
    "sklearn_exp.paramnames()"
   ]
  },
  {
   "cell_type": "code",
   "execution_count": null,
   "id": "daaacd3d",
   "metadata": {},
   "outputs": [],
   "source": [
    "sklearn_exp(C=1, gamma=0.3)"
   ]
  },
  {
   "cell_type": "code",
   "execution_count": null,
   "id": "f74ca927",
   "metadata": {},
   "outputs": [],
   "source": [
    "sklearn_exp.score(C=1, gamma=0.3)"
   ]
  },
  {
   "cell_type": "markdown",
   "id": "71073496",
   "metadata": {},
   "source": [
    "### use of optimizers"
   ]
  },
  {
   "cell_type": "markdown",
   "id": "300a1666",
   "metadata": {},
   "source": [
    "#### Grid search & sklearn CV"
   ]
  },
  {
   "cell_type": "code",
   "execution_count": null,
   "id": "5e2328c9",
   "metadata": {},
   "outputs": [],
   "source": [
    "from hyperactive.experiment.integrations import SklearnCvExperiment\n",
    "from sklearn.datasets import load_iris\n",
    "from sklearn.svm import SVC\n",
    "from sklearn.metrics import accuracy_score\n",
    "from sklearn.model_selection import KFold\n",
    "\n",
    "X, y = load_iris(return_X_y=True)\n",
    "\n",
    "sklearn_exp = SklearnCvExperiment(\n",
    "    estimator=SVC(),\n",
    "    scoring=accuracy_score,\n",
    "    cv=KFold(n_splits=3, shuffle=True),\n",
    "    X=X,\n",
    "    y=y,\n",
    ")"
   ]
  },
  {
   "cell_type": "code",
   "execution_count": null,
   "id": "e9a07a73",
   "metadata": {},
   "outputs": [],
   "source": [
    "from hyperactive.opt import GridSearch\n",
    "\n",
    "param_grid = {\n",
    "    \"C\": [0.01, 0.1, 1, 10],\n",
    "    \"gamma\": [0.0001, 0.01, 0.1, 1, 10],\n",
    "}\n",
    "grid_search = GridSearch(sklearn_exp, param_grid=param_grid)\n",
    "\n",
    "grid_search.run()"
   ]
  },
  {
   "cell_type": "markdown",
   "id": "80dc9cb3",
   "metadata": {},
   "source": [
    "we can also pass the parameters later, in `add_search`:"
   ]
  },
  {
   "cell_type": "code",
   "execution_count": null,
   "id": "2ad90597",
   "metadata": {},
   "outputs": [],
   "source": [
    "from hyperactive.opt import GridSearch\n",
    "\n",
    "grid_search = GridSearch()\n",
    "\n",
    "param_grid = {\n",
    "    \"C\": [0.01, 0.1, 1, 10],\n",
    "    \"gamma\": [0.0001, 0.01, 0.1, 1, 10],\n",
    "}\n",
    "\n",
    "grid_search.add_search(sklearn_exp, param_grid=param_grid)\n",
    "grid_search.run()"
   ]
  },
  {
   "cell_type": "code",
   "execution_count": null,
   "id": "f9a4d922",
   "metadata": {},
   "outputs": [],
   "source": []
  }
 ],
 "metadata": {
  "kernelspec": {
   "display_name": "sktime-skpro-skbase-313",
   "language": "python",
   "name": "python3"
  },
  "language_info": {
   "codemirror_mode": {
    "name": "ipython",
    "version": 3
   },
   "file_extension": ".py",
   "mimetype": "text/x-python",
   "name": "python",
   "nbconvert_exporter": "python",
   "pygments_lexer": "ipython3",
   "version": "3.12.7"
  }
 },
 "nbformat": 4,
 "nbformat_minor": 5
}
