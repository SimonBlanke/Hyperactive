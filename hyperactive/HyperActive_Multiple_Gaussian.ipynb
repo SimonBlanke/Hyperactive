{
 "cells": [
  {
   "cell_type": "markdown",
   "metadata": {
    "id": "tFr3s1eh9_Mi"
   },
   "source": [
    "# Gaussian Mixture Models Implementation"
   ]
  },
  {
   "cell_type": "code",
   "execution_count": 734,
   "metadata": {
    "id": "irGOL_Dcw8ja"
   },
   "outputs": [],
   "source": [
    "import matplotlib.pyplot as plt\n",
    "import numpy as np\n",
    "import random\n",
    "from sklearn.cluster import KMeans\n",
    "import scipy.stats as stats\n",
    "import warnings\n",
    "warnings.filterwarnings(\"ignore\", category=RuntimeWarning) "
   ]
  },
  {
   "cell_type": "markdown",
   "metadata": {},
   "source": [
    "Since we do not have any real data, we generate it randomly from normal distributions using the below fuction."
   ]
  },
  {
   "cell_type": "code",
   "execution_count": 784,
   "metadata": {},
   "outputs": [],
   "source": [
    "def generate_random_sample(num_gaussians, num_observations):\n",
    "    \n",
    "    samples = []\n",
    "    samples_tup = []\n",
    "    parameters = []\n",
    "    size = int(num_observations/num_gaussians)\n",
    "    for x in range(num_gaussians):\n",
    "        mean, sd = random.randint(-30, 30), random.randint(1, 3)\n",
    "        samples.append(np.random.normal(loc=mean, scale=sd, size=size))\n",
    "        parameters.append((mean, sd))\n",
    "        samples_tup.append((mean, samples[x]))\n",
    "        \n",
    "    print('Parameters of the random distributions: ' +str(parameters))\n",
    "    samples_array = np.array([x for sample_x in samples for x in sample_x])\n",
    "    \n",
    "    return {'parameters': parameters, 'X': samples_array.reshape((len(samples_array), 1)), 'samples': samples, 'samp_tup': samples_tup}"
   ]
  },
  {
   "cell_type": "code",
   "execution_count": 785,
   "metadata": {},
   "outputs": [],
   "source": [
    "def gaussian(X, mu, cov):\n",
    "    n = X.shape[1]\n",
    "    diff = (X - mu).T\n",
    "    return np.diagonal(1 / ((2 * np.pi) ** (n / 2) * np.linalg.det(cov) ** 0.5) * np.exp(-0.5 * np.dot(np.dot(diff.T, np.linalg.inv(cov)), diff))).reshape(-1, 1)"
   ]
  },
  {
   "cell_type": "markdown",
   "metadata": {
    "id": "Vgz6E8z9VaVJ"
   },
   "source": [
    "Let us now implement the Gaussian density function. Ahem... I know you can use numpy functions for that, but I believe it is actually interesting to see how things work internally. Our aim is to create a function that implements this:\n",
    "\n",
    "\\begin{equation}\n",
    "\\large\n",
    "p(\\mathbf x | \\mathbf\\mu, \\mathbf\\Sigma) = \\frac 1 {({2\\pi})^{n/2}|\\Sigma|^{1/2}}\\exp\\left(-\\frac 1 2 (\\mathbf x -\\mathbf\\mu)^T\\mathbf\\Sigma^{-1}(\\mathbf x -\\mathbf\\mu)\\right)\n",
    "\\end{equation}\n"
   ]
  },
  {
   "cell_type": "markdown",
   "metadata": {
    "id": "NsxI7u2NXpWY"
   },
   "source": [
    "__Step 1__\n",
    "\n",
    "This is the initialization step of the GMM. At this point, we must initialise our parameters $\\pi_k$, $\\mu_k$, and $\\Sigma_k$. In this case, we are going to use the results of KMeans as an initial value for $\\mu_k$, set $\\pi_k$ to one over the number of clusters and $\\Sigma_k$ to the identity matrix. We could also use random numbers for everything, but using a sensible initialisation procedure will help the algorithm achieve better results."
   ]
  },
  {
   "cell_type": "code",
   "execution_count": 786,
   "metadata": {
    "id": "XEZjEtUqRfgG"
   },
   "outputs": [],
   "source": [
    "def initialize_clusters(X, n_clusters):\n",
    "    clusters = []\n",
    "    idx = np.arange(X.shape[0])\n",
    "    \n",
    "    # We use the KMeans centroids to initialise the GMM\n",
    "    \n",
    "    kmeans = KMeans(n_clusters, n_init = 100).fit(X)\n",
    "    \n",
    "    cluster_id = kmeans.labels_\n",
    "    \n",
    "    mu_k = kmeans.cluster_centers_\n",
    "        \n",
    "    for i in range(n_clusters):\n",
    "        clusters.append({\n",
    "            'pi_k': 1.0 / n_clusters,\n",
    "            'mu_k': mu_k[i],\n",
    "            'cov_k': np.identity(X.shape[1], dtype=np.float64)\n",
    "        })\n",
    "        \n",
    "    return clusters, cluster_id"
   ]
  },
  {
   "cell_type": "markdown",
   "metadata": {
    "id": "b4HIKt0OYCex"
   },
   "source": [
    "**Step 2 (Expectation step)**\n",
    "\n",
    "We should now calculate $\\gamma(z_{nk})$. We can achieve this by means of the following expression:\n",
    "\n",
    "\\begin{equation}\n",
    "\\large\n",
    "\\gamma{(z_{nk})}=\\frac {\\pi_k\\mathcal N(\\mathbf x_n| \\mathbf\\mu_k, \\mathbf\\Sigma_k)}{\\sum_{j=1}^K\\pi_j\\mathcal N(\\mathbf x_n| \\mathbf\\mu_j, \\mathbf\\Sigma_j)}\n",
    "\\end{equation}\n",
    "\n",
    "For convenience, we just calculate the denominator as a sum over all terms in the numerator, and then assign it to a variable named __totals__"
   ]
  },
  {
   "cell_type": "code",
   "execution_count": 787,
   "metadata": {
    "id": "78Xqp2nSGugd"
   },
   "outputs": [],
   "source": [
    "def expectation_step(X, clusters):\n",
    "    totals = np.zeros((X.shape[0], 1), dtype=np.float64)\n",
    "    \n",
    "    for cluster in clusters:\n",
    "        pi_k = cluster['pi_k']\n",
    "        mu_k = cluster['mu_k']\n",
    "        cov_k = cluster['cov_k']\n",
    "        \n",
    "        gamma_nk = (pi_k * gaussian(X, mu_k, cov_k)).astype(np.float64)\n",
    "        \n",
    "        for i in range(X.shape[0]):\n",
    "            totals[i] += gamma_nk[i]\n",
    "        \n",
    "        cluster['gamma_nk'] = gamma_nk\n",
    "        cluster['totals'] = totals\n",
    "        \n",
    "    \n",
    "    for cluster in clusters:\n",
    "        cluster['gamma_nk'] /= cluster['totals']"
   ]
  },
  {
   "cell_type": "markdown",
   "metadata": {
    "id": "_VHT5Ph1ZAFu"
   },
   "source": [
    "**Step 3 (Maximization step):**\n",
    "\n",
    "Let us now implement the maximization step. Since $\\gamma(z_{nk})$ is common to the expressions for $\\pi_k$, $\\mu_k$ and $\\Sigma_k$, we can simply define:\n",
    "\n",
    "\\begin{equation}\n",
    "\\large\n",
    "N_k=\\sum_{n=1}^N\\gamma({z_{nk}})\n",
    "\\end{equation}\n",
    "\n",
    "And then we can calculate the revised parameters by using:\n",
    "\n",
    "\\begin{equation}\n",
    "\\large\n",
    "\\pi_k^*=\\frac {N_k} N\n",
    "\\end{equation}\n",
    "\n",
    "\n",
    "\\begin{equation}\n",
    "\\large\n",
    "\\mu_k^*=\\frac 1 {N_k} \\sum_{n=1}^N\\gamma({z_{nk}})\\mathbf x_n\n",
    "\\end{equation}\n",
    "\n",
    "\n",
    "\\begin{equation}\n",
    "\\large\n",
    "\\Sigma_k^*=\\frac 1 {N_k} \\sum_{n=1}^N\\gamma({z_{nk}})(\\mathbf x_n-\\mathbf\\mu_k)(\\mathbf x_n-\\mathbf\\mu_k)^T\n",
    "\\end{equation}\n",
    "\n",
    "Note: To calculate the covariance, we define an auxiliary variable __diff__ that contains $(x_n-\\mu_k)^T$."
   ]
  },
  {
   "cell_type": "code",
   "execution_count": 788,
   "metadata": {
    "id": "7Z7K5jrEJHHu"
   },
   "outputs": [],
   "source": [
    "def maximization_step(X, clusters):\n",
    "    N = float(X.shape[0])\n",
    "    Q = []\n",
    "    for cluster in clusters:\n",
    "        gamma_nk = cluster['gamma_nk']\n",
    "        cov_k = np.zeros((X.shape[1], X.shape[1]))\n",
    "        \n",
    "        N_k = np.sum(gamma_nk, axis=0) \n",
    "        pi_k = N_k / N\n",
    "        mu_k = np.sum(gamma_nk * X, axis=0) / N_k\n",
    "        \n",
    "        for j in range(X.shape[0]):\n",
    "            diff = (X[j] - mu_k).reshape(-1, 1)\n",
    "            cov_k += gamma_nk[j] * np.dot(diff, diff.T)\n",
    "            \n",
    "        cov_k /= N_k\n",
    "        \n",
    "        cluster['pi_k'] = pi_k\n",
    "        cluster['mu_k'] = mu_k\n",
    "        cluster['cov_k'] = cov_k\n",
    "        \n",
    "        Q_K = np.sum(np.multiply(gamma_nk, np.log(pi_k)))\n"
   ]
  },
  {
   "cell_type": "markdown",
   "metadata": {
    "id": "Qzbylmjoa_61"
   },
   "source": [
    "Let us now determine the log-likelihood of the model. It is given by:\n",
    "\n",
    "\\begin{equation}\n",
    "\\large\n",
    "\\ln p(\\mathbf X)=\\sum_{n=1}^N\\ln\\sum_{k=1}^K\\pi_k\\mathcal N(\\mathbf x_n|\\mu_k,\\Sigma_k)\n",
    "\\end{equation}\n",
    "\n",
    "However, the second summation has already been calculated in the __expectation_step__ function and is available in the __totals__ variable. So we just make use of it."
   ]
  },
  {
   "cell_type": "code",
   "execution_count": 789,
   "metadata": {
    "id": "vzVrZY6PTMR8"
   },
   "outputs": [],
   "source": [
    "def get_likelihood(X, clusters):\n",
    "    sample_likelihoods = np.log(np.array([cluster['totals'] for cluster in clusters]))\n",
    "    return np.sum(sample_likelihoods), sample_likelihoods"
   ]
  },
  {
   "cell_type": "markdown",
   "metadata": {
    "id": "oGSkyh33bNu8"
   },
   "source": [
    "Finally, let's put everything together! First, we are going to initialise the parameters by using the __initialise_clusters__ function, and then perform several expectation-maximization steps. In this case, we set the number of iterations of the training procedure to a fixed __n_epochs__ number. I have done this on purpose to generate graphs of the log-likelihood later."
   ]
  },
  {
   "cell_type": "code",
   "execution_count": 790,
   "metadata": {
    "id": "9qWFzpI3Uq-9"
   },
   "outputs": [],
   "source": [
    "def train_gmm(X, n_clusters, n_epochs):\n",
    "    \n",
    "    clusters, cluster_id = initialize_clusters(X, n_clusters)\n",
    "    likelihoods = np.zeros((n_epochs, ))\n",
    "    scores = np.zeros((X.shape[0], n_clusters))\n",
    "    history = []\n",
    "\n",
    "    for i in range(n_epochs):\n",
    "        clusters_snapshot = []\n",
    "        \n",
    "        # This is just for our later use in the graphs\n",
    "        for cluster in clusters:\n",
    "            clusters_snapshot.append({\n",
    "                'mu_k': cluster['mu_k'].copy(),\n",
    "                'cov_k': cluster['cov_k'].copy()\n",
    "            })\n",
    "            \n",
    "        history.append(clusters_snapshot)\n",
    "      \n",
    "        expectation_step(X, clusters)\n",
    "        maximization_step(X, clusters)\n",
    "\n",
    "        likelihood, sample_likelihoods = get_likelihood(X, clusters)\n",
    "        likelihoods[i] = likelihood\n",
    "        \n",
    "    for i, cluster in enumerate(clusters):\n",
    "        scores[:, i] = np.log(cluster['gamma_nk']).reshape(-1)\n",
    "    return clusters, likelihoods, scores, sample_likelihoods, history, cluster_id"
   ]
  },
  {
   "cell_type": "markdown",
   "metadata": {},
   "source": [
    "# Find the best number of Gaussians\n",
    "\n",
    "The below function estimates the fit error of each gaussian using the Kolmogorov–Smirnov test (stats.ks_2samp). It returns the Kolmogorov–Smirnov test values and the parameters of each Gaussian (mean and standard deviation)"
   ]
  },
  {
   "cell_type": "code",
   "execution_count": 791,
   "metadata": {},
   "outputs": [],
   "source": [
    "def compare(sol, clusters, n_clusters, num_observations, cluster_Xs):\n",
    "    \n",
    "    bins = 50\n",
    "    fitness = []\n",
    "    parameters = []\n",
    "    \n",
    "    for i in range(n_clusters):\n",
    "        \n",
    "        X = cluster_Xs[cluster_Xs[:,1] == i][:,0]    \n",
    "    size = int(num_observations/n_clusters)\n",
    "    for n in range(n_clusters):\n",
    "        mean = float(clusters[n]['mu_k'])\n",
    "        standard_deviation = np.sqrt(float(clusters[n]['cov_k']))\n",
    "           \n",
    "        X = cluster_Xs[cluster_Xs[:,1] == n][:,0]\n",
    "        rvs1 = stats.norm.rvs(size=size, loc=mean, scale=standard_deviation)\n",
    "        fitness.append(stats.ks_2samp(rvs1, X)[0])\n",
    "        x_values = np.arange(-50, 50, 0.01)\n",
    "        y_values = stats.norm(mean, standard_deviation)\n",
    "                \n",
    "        parameters.append((mean, standard_deviation))\n",
    "        \n",
    "    return np.mean(fitness), parameters\n"
   ]
  },
  {
   "cell_type": "code",
   "execution_count": 792,
   "metadata": {},
   "outputs": [],
   "source": [
    "def show_best(X,n_clusters):\n",
    "    left, right = min(X), max(X)\n",
    "    n_epochs = 2\n",
    "    clusters, likelihoods, scores, sample_likelihoods, history, cluster_Xs = train_gmm(X, n_clusters, n_epochs)\n",
    "    cluster_Xs = cluster_Xs.reshape((len(cluster_Xs), 1))\n",
    "    cluster_Xs =  np.column_stack((X, cluster_Xs))\n",
    "    \n",
    "    bins = 20\n",
    " \n",
    "    plt.figure(figsize=(15, 6), dpi=80)\n",
    "    for i in range(n_clusters):\n",
    "        \n",
    "        X = cluster_Xs[cluster_Xs[:,1] == i][:,0] \n",
    "        plt.hist(X, density=True, bins = bins, alpha = 0.4)[0]\n",
    "    \n",
    "    \n",
    "    size = int(num_observations/n_clusters)\n",
    "    for n in range(n_clusters):\n",
    "        mean = float(clusters[n]['mu_k'])\n",
    "        standard_deviation = np.sqrt(float(clusters[n]['cov_k']))\n",
    "           \n",
    "        X = cluster_Xs[cluster_Xs[:,1] == n][:,0]\n",
    "        rvs1 = stats.norm.rvs(size=size, loc=mean, scale=standard_deviation)\n",
    "        x_values = np.arange(left*1.2, right*1.2, 0.01)\n",
    "        y_values = stats.norm(mean, standard_deviation)\n",
    "        \n",
    "        plt.plot(x_values, y_values.pdf(x_values), linewidth=4)\n",
    "        \n",
    "    \n",
    "    plt.show()\n",
    "    \n",
    "    "
   ]
  },
  {
   "cell_type": "code",
   "execution_count": 793,
   "metadata": {},
   "outputs": [],
   "source": [
    "def gaussian_mixture(X, max_gaussians = 10):\n",
    "    num_observations = len(X)\n",
    "    fitness = []\n",
    "    parameters = []\n",
    "    for i in range(max_gaussians):\n",
    "        n_clusters = i+1\n",
    "        n_epochs = 2\n",
    "        clusters, likelihoods, scores, sample_likelihoods, history, cluster_Xs = train_gmm(X, n_clusters, n_epochs)\n",
    "        cluster_Xs = cluster_Xs.reshape((len(cluster_Xs), 1))\n",
    "        cluster_Xs =  np.column_stack((X, cluster_Xs))\n",
    "        fit, param = compare(sol, clusters, n_clusters, num_observations, cluster_Xs)\n",
    "        fitness.append(fit)\n",
    "        parameters.append(param)\n",
    "    best_n_clusters = fitness.index(min(fitness))+1\n",
    "    best_parameters = parameters[fitness.index(min(fitness))]\n",
    "    print('The best Nº of Guassian fits is ' + str(fitness.index(min(fitness))+1))\n",
    "    print('The paramters are: ' + str(parameters[fitness.index(min(fitness))]))\n",
    "    print('The fit looks like: ')\n",
    "    show_best(X,best_n_clusters)\n",
    "    \n",
    "    return parameters[fitness.index(min(fitness))]"
   ]
  },
  {
   "cell_type": "code",
   "execution_count": 794,
   "metadata": {},
   "outputs": [
    {
     "name": "stdout",
     "output_type": "stream",
     "text": [
      "Parameters of the random distributions: [(0, 1), (-18, 2), (-18, 2), (27, 1), (10, 1)]\n",
      "The best Nº of Guassian fits is 4\n",
      "The paramters are: [(0.09089262977467254, 0.9358528792232469), (27.0374598360451, 1.0220757464719008), (-18.202928351645266, 1.8650931490199303), (9.960696376203925, 0.9682712499696963)]\n",
      "The fit looks like: \n"
     ]
    },
    {
     "data": {
      "image/png": "[encoded data removed]",
      "text/plain": [
       "<Figure size 1200x480 with 1 Axes>"
      ]
     },
     "metadata": {
      "needs_background": "light"
     },
     "output_type": "display_data"
    }
   ],
   "source": [
    "num_gaussians = 5\n",
    "num_observations = 1000\n",
    "sol = generate_random_sample(num_gaussians,num_observations)\n",
    "X = sol['X']\n",
    "\n",
    "parameters = gaussian_mixture(X)"
   ]
  }
 ],
 "metadata": {
  "colab": {
   "collapsed_sections": [],
   "name": "GMM_Implementation.ipynb",
   "provenance": [],
   "toc_visible": true
  },
  "kernelspec": {
   "display_name": "Python 3",
   "language": "python",
   "name": "python3"
  },
  "language_info": {
   "codemirror_mode": {
    "name": "ipython",
    "version": 3
   },
   "file_extension": ".py",
   "mimetype": "text/x-python",
   "name": "python",
   "nbconvert_exporter": "python",
   "pygments_lexer": "ipython3",
   "version": "3.8.5"
  }
 },
 "nbformat": 4,
 "nbformat_minor": 1
}
